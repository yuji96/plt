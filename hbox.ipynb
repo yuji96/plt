{
 "cells": [
  {
   "cell_type": "code",
   "execution_count": 1,
   "metadata": {},
   "outputs": [
    {
     "data": {
      "application/vnd.jupyter.widget-view+json": {
       "model_id": "a0d8a2268e304aa0b7844078ff495b59",
       "version_major": 2,
       "version_minor": 0
      },
      "text/plain": [
       "HBox(children=(Image(value=b'\\x89PNG\\r\\n\\x1a\\n\\x00\\x00\\x00\\rIHDR\\x00\\x00\\x01\\xb0\\x00\\x00\\x01 \\x08\\x06\\x00\\x00\\…"
      ]
     },
     "metadata": {},
     "output_type": "display_data"
    }
   ],
   "source": [
    "import numpy as np\n",
    "import plt\n",
    "\n",
    "figures = []\n",
    "for i in range(10):\n",
    "    r = np.random.randn(50)\n",
    "    plt.kdeplot(r)\n",
    "    plt.title(i, fontsize=20)\n",
    "    figures.append(plt.gcf())\n",
    "    plt.close()\n",
    "\n",
    "plt.hbox(figures)"
   ]
  }
 ],
 "metadata": {
  "kernelspec": {
   "display_name": "Python 3",
   "language": "python",
   "name": "python3"
  },
  "language_info": {
   "codemirror_mode": {
    "name": "ipython",
    "version": 3
   },
   "file_extension": ".py",
   "mimetype": "text/x-python",
   "name": "python",
   "nbconvert_exporter": "python",
   "pygments_lexer": "ipython3",
   "version": "3.9.13"
  },
  "orig_nbformat": 4,
  "vscode": {
   "interpreter": {
    "hash": "ecfa4e302b7607fa496cb9db9d32610bd00ed1bfe39386c5ce0408823d5ee60a"
   }
  }
 },
 "nbformat": 4,
 "nbformat_minor": 2
}
